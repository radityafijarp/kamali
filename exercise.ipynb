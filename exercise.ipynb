{
 "cells": [
  {
   "cell_type": "code",
   "execution_count": null,
   "metadata": {},
   "outputs": [
    {
     "name": "stdout",
     "output_type": "stream",
     "text": [
      "Pilihlah opsi yang anda inginkan: \n",
      "\t1. Menghitung persentase keuntungan atau kerugian\n",
      "\t2. Menghitung ekspektasi lama tahun untuk mencapai target tabungan \n",
      "Hasil penghitungan iterasi ke-1 telah ditulis ke dalam file 'hasil_perhitungan_1.txt'.\n"
     ]
    }
   ],
   "source": [
    "def hitung_persentase_keuntungan_atau_kerugian(pemasukan,pengeluaran):\n",
    "    try:\n",
    "        if pemasukan>pengeluaran:\n",
    "            result = (pemasukan-pengeluaran)/pengeluaran*100\n",
    "            result =\"Keuntungan sebesar \"+str(result)+\"%\"\n",
    "        elif pemasukan<pengeluaran:\n",
    "            result =(pengeluaran-pemasukan)/pemasukan*100\n",
    "            result =\"Kerugian sebesar \"+str(result)+\"%\"\n",
    "        else:\n",
    "            return(\"Tidak ada keuntungan atau kerugian\")\n",
    "    except ValueError:\n",
    "        return(\"Hasil Keuntungan atau Kerugian: ValueError: Pemasukan dan pengeluaran harus berupa angka yang valid. \")\n",
    "    except ZeroDivisionError:\n",
    "        return(\"Hasil Keuntungan atau Kerugian: ZeroDivisionError: Pemasukan atau pengeluaran tidak boleh 0.\")\n",
    "    return \"Hasil Keuntungan atau Kerugian: \"+result\n",
    "def hitung_waktu_target_tabungan(uang_awal,bunga_tahunan,target):\n",
    "    count_tahun=0\n",
    "    while uang_awal<target:\n",
    "        uang_awal=uang_awal*bunga_tahunan/100+uang_awal\n",
    "        count_tahun=count_tahun+1\n",
    "    return \"Hasil Pergi ke Bank: Jumlah tahun untuk mencapai target: \"+str(count_tahun)+\" tahun\"\n",
    "\n",
    "def print_to_file(result,perhitunganCount):\n",
    "    fileName=\"hasil_perhitungan_\"+str(perhitunganCount)+\".txt\"\n",
    "    strPerhitunganCount=str(perhitunganCount)\n",
    "    result=\"Hasil Perhitungan Iterasi \"+strPerhitunganCount+\":\\n\"+result\n",
    "    with open(fileName, \"w\") as file:\n",
    "        # Write the string to the file\n",
    "        file.write(str(result))\n",
    "    print(\"Hasil penghitungan iterasi ke-\"+strPerhitunganCount+\" telah ditulis ke dalam file '\"+fileName+\"'.\")\n",
    "\n",
    "appRun=True\n",
    "perhitunganCount=1\n",
    "while appRun:\n",
    "    \n",
    "    userWant=input(\"Apakah Anda ingin menghitung keuangan? (y/n): \")\n",
    "    if(userWant!=\"y\"):\n",
    "        print(\"Sampai jumpa di penghitungan keuangan berikutnya :(\")\n",
    "        break\n",
    "    else:\n",
    "        print(\"Pilihlah opsi yang anda inginkan: \")\n",
    "        print(\"\\t1. Menghitung persentase keuntungan atau kerugian\")\n",
    "        print(\"\\t2. Menghitung ekspektasi lama tahun untuk mencapai target tabungan \")\n",
    "        userChoice=input(\"Masukkan pilihan anda (1/2): \")\n",
    "        if userChoice==\"1\":\n",
    "            pemasukan=int(input(\"Masukkan pemasukan: \"))\n",
    "            pengeluaran=int(input(\"Masukkan pengeluaran: \"))\n",
    "            result=hitung_persentase_keuntungan_atau_kerugian(pemasukan,pengeluaran)\n",
    "            print_to_file(result,perhitunganCount)\n",
    "            perhitunganCount=perhitunganCount+1\n",
    "        elif userChoice==\"2\":\n",
    "            tabunganAwal=int(input(\"Masukkan tabungan awal: \"))\n",
    "            bungaTahunan=int(input(\"Masukkan bunga tahunan (%): \"))\n",
    "            targetTabungan=int(input(\"Masukkan target tabungan: \"))\n",
    "            result=hitung_waktu_target_tabungan(tabunganAwal,bungaTahunan,targetTabungan)\n",
    "            print_to_file(result,perhitunganCount)\n",
    "            perhitunganCount=perhitunganCount+1\n",
    "        else:\n",
    "            print(\"Opsi tidak valid! \")\n",
    "   "
   ]
  }
 ],
 "metadata": {
  "kernelspec": {
   "display_name": "spyder-cf",
   "language": "python",
   "name": "python3"
  },
  "language_info": {
   "codemirror_mode": {
    "name": "ipython",
    "version": 3
   },
   "file_extension": ".py",
   "mimetype": "text/x-python",
   "name": "python",
   "nbconvert_exporter": "python",
   "pygments_lexer": "ipython3",
   "version": "3.10.9"
  }
 },
 "nbformat": 4,
 "nbformat_minor": 2
}
